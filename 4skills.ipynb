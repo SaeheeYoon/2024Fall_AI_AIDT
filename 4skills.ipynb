{
  "nbformat": 4,
  "nbformat_minor": 0,
  "metadata": {
    "colab": {
      "provenance": [],
      "gpuType": "T4",
      "authorship_tag": "ABX9TyNXzByGNEra9cGQhIgtIpwr",
      "include_colab_link": true
    },
    "kernelspec": {
      "name": "python3",
      "display_name": "Python 3"
    },
    "language_info": {
      "name": "python"
    },
    "accelerator": "GPU"
  },
  "cells": [
    {
      "cell_type": "markdown",
      "metadata": {
        "id": "view-in-github",
        "colab_type": "text"
      },
      "source": [
        "<a href=\"https://colab.research.google.com/github/junkyuhufs/2024Fall_AI_AIDT/blob/main/4skills.ipynb\" target=\"_parent\"><img src=\"https://colab.research.google.com/assets/colab-badge.svg\" alt=\"Open In Colab\"/></a>"
      ]
    },
    {
      "cell_type": "markdown",
      "source": [
        "#🍀 Reading passages by sentences\n",
        "###Run [0] to install necessary packages\n",
        "###Past your text in [1] while running the code"
      ],
      "metadata": {
        "id": "mSlZ5sVP4LqX"
      }
    },
    {
      "cell_type": "markdown",
      "source": [
        "[0] 🔎 Install packages"
      ],
      "metadata": {
        "id": "QcB8mKcp4ae1"
      }
    },
    {
      "cell_type": "code",
      "execution_count": 2,
      "metadata": {
        "id": "vPMP99yV3q5J"
      },
      "outputs": [],
      "source": [
        "%%capture\n",
        "!pip install gtts gradio\n",
        "!pip install qrcode"
      ]
    },
    {
      "cell_type": "markdown",
      "source": [
        "[1] 🔎 Text to specify: sentences or reading passages"
      ],
      "metadata": {
        "id": "wCrlN2Z64lPO"
      }
    },
    {
      "cell_type": "markdown",
      "source": [
        "Note: 'title' (before colon) should be filled. This is the title visible in the dropbox selection (e.g., Sentence 1, Story 1, Tom and Jerry, etc.\n",
        "\n",
        "Paste your text to the pop-up window while running the code below"
      ],
      "metadata": {
        "id": "U-ivyWC94snH"
      }
    },
    {
      "cell_type": "markdown",
      "source": [
        "[샘플 텍스트](https://read.gov/aesop/010.html)"
      ],
      "metadata": {
        "id": "PV8O792V4uJf"
      }
    },
    {
      "cell_type": "code",
      "source": [
        "mytext = input(\"Paste your text her: \")"
      ],
      "metadata": {
        "id": "duTKfySO43kr"
      },
      "execution_count": null,
      "outputs": []
    },
    {
      "cell_type": "markdown",
      "source": [
        "Reading passage into sentences"
      ],
      "metadata": {
        "id": "G1-XboOO5XCn"
      }
    },
    {
      "cell_type": "markdown",
      "source": [
        "[2] 🔎 Gradio: getting a live link"
      ],
      "metadata": {
        "id": "XSoekgvg5d8H"
      }
    },
    {
      "cell_type": "code",
      "source": [
        "#@markdown 🌀 Gradio app with pre-given texts\n",
        "import gradio as gr\n",
        "from gtts import gTTS\n",
        "\n",
        "texts = mytext\n",
        "\n",
        "def text_to_speech(texts, language):\n",
        "\n",
        "    # Define language codes for English, Korean, and Russian\n",
        "    language_codes = {'English': 'en', 'Korean': 'ko', 'Russian': 'ru'}\n",
        "\n",
        "    # Create a gTTS object with the selected language\n",
        "    tts = gTTS(text=mytext, lang=language_codes[language], slow=False)\n",
        "\n",
        "    # Save the speech to a temporary file\n",
        "    filename = 'output.mp3'\n",
        "    tts.save(filename)\n",
        "    return filename\n",
        "\n",
        "iface = gr.Interface(\n",
        "    fn=text_to_speech,\n",
        "    inputs=[\n",
        "        gr.Textbox(label=\"Sample text\", placeholder=mytext),\n",
        "        gr.Radio(choices=['English', 'Korean', 'Russian'], label=\"Select Language\")\n",
        "    ],\n",
        "    outputs=gr.Audio(label=\"Output Audio\"),\n",
        "    title=\"Text-to-Speech Converter\",\n",
        "    description=\"Enter a sentence and choose a language to convert it into speech.\"\n",
        ")\n",
        "\n",
        "\n",
        "iface.launch()"
      ],
      "metadata": {
        "id": "FeHKQ-ds5jvW"
      },
      "execution_count": null,
      "outputs": []
    },
    {
      "cell_type": "markdown",
      "source": [
        "[3] 🔎 QR code to share"
      ],
      "metadata": {
        "id": "Gc4xDtBY6NFW"
      }
    },
    {
      "cell_type": "code",
      "source": [
        "#@markdown 🌀 QR code (link should be provided)\n",
        "import qrcode\n",
        "from IPython.display import display\n",
        "from PIL import Image\n",
        "\n",
        "# Replace YOUR_URL_HERE with the URL you copied from the Gradio output\n",
        "url = input(\"\")\n",
        "\n",
        "# Generate QR code\n",
        "qr = qrcode.QRCode(\n",
        "    version=1,\n",
        "    error_correction=qrcode.constants.ERROR_CORRECT_H,\n",
        "    box_size=16,\n",
        "    border=4,\n",
        ")\n",
        "qr.add_data(url)\n",
        "qr.make(fit=True)\n",
        "img = qr.make_image(fill_color=\"black\", back_color=\"white\")\n",
        "display(img)"
      ],
      "metadata": {
        "id": "bSMN72DE7nlO"
      },
      "execution_count": null,
      "outputs": []
    },
    {
      "cell_type": "code",
      "source": [
        "#@markdown Text into sentences\n",
        "import re\n",
        "\n",
        "# mytext = [\"A Lion lay asleep in the forest, his great head resting on his paws. A timid little Mouse came upon him unexpectedly, and in her fright and haste to get away, ran across the Lion's nose. Roused from his nap, the Lion laid his huge paw angrily on the tiny creature to kill her.\"]\n",
        "\n",
        "# Use regular expression to split text into sentences\n",
        "sentences = re.split(r'[.!?]', mytext[:])\n",
        "\n",
        "# Remove empty strings and strip whitespace from the resulting sentences\n",
        "sentences = [sentence.strip() for sentence in sentences if sentence.strip()]\n",
        "\n",
        "print(sentences)"
      ],
      "metadata": {
        "id": "g2kjz_I_76hF"
      },
      "execution_count": null,
      "outputs": []
    }
  ]
}