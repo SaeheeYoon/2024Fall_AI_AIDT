{
  "nbformat": 4,
  "nbformat_minor": 0,
  "metadata": {
    "colab": {
      "provenance": [],
      "gpuType": "T4",
      "authorship_tag": "ABX9TyOoROiS+xzj3+lk69OZeoHj",
      "include_colab_link": true
    },
    "kernelspec": {
      "name": "python3",
      "display_name": "Python 3"
    },
    "language_info": {
      "name": "python"
    },
    "accelerator": "GPU"
  },
  "cells": [
    {
      "cell_type": "markdown",
      "metadata": {
        "id": "view-in-github",
        "colab_type": "text"
      },
      "source": [
        "<a href=\"https://colab.research.google.com/github/junkyuhufs/2024Fall_AI_AIDT/blob/main/4skills.ipynb\" target=\"_parent\"><img src=\"https://colab.research.google.com/assets/colab-badge.svg\" alt=\"Open In Colab\"/></a>"
      ]
    },
    {
      "cell_type": "markdown",
      "source": [
        "#🍀 Reading passages by sentences\n",
        "###Run [0] to install necessary packages\n",
        "###Past your text in [1] while running the code"
      ],
      "metadata": {
        "id": "mSlZ5sVP4LqX"
      }
    },
    {
      "cell_type": "markdown",
      "source": [
        "[0] 🔎 Install packages"
      ],
      "metadata": {
        "id": "QcB8mKcp4ae1"
      }
    },
    {
      "cell_type": "code",
      "execution_count": 2,
      "metadata": {
        "id": "vPMP99yV3q5J"
      },
      "outputs": [],
      "source": [
        "%%capture\n",
        "!pip install gtts gradio\n",
        "!pip install qrcode"
      ]
    },
    {
      "cell_type": "markdown",
      "source": [
        "[1] 🔎 Text to specify: sentences or reading passages"
      ],
      "metadata": {
        "id": "wCrlN2Z64lPO"
      }
    },
    {
      "cell_type": "markdown",
      "source": [
        "Note: 'title' (before colon) should be filled. This is the title visible in the dropbox selection (e.g., Sentence 1, Story 1, Tom and Jerry, etc.\n",
        "\n",
        "Paste your text to the pop-up window while running the code below"
      ],
      "metadata": {
        "id": "U-ivyWC94snH"
      }
    },
    {
      "cell_type": "markdown",
      "source": [
        "[샘플 텍스트](https://read.gov/aesop/010.html)"
      ],
      "metadata": {
        "id": "PV8O792V4uJf"
      }
    },
    {
      "cell_type": "code",
      "source": [
        "mytext = input(\"Paste your text her: \")"
      ],
      "metadata": {
        "id": "duTKfySO43kr"
      },
      "execution_count": null,
      "outputs": []
    },
    {
      "cell_type": "markdown",
      "source": [
        "Reading passage into sentences"
      ],
      "metadata": {
        "id": "G1-XboOO5XCn"
      }
    },
    {
      "cell_type": "markdown",
      "source": [
        "[2] 🔎 Gradio: getting a live link"
      ],
      "metadata": {
        "id": "XSoekgvg5d8H"
      }
    },
    {
      "cell_type": "code",
      "source": [
        "#@markdown 🌀 Gradio app with pre-given texts\n",
        "import gradio as gr\n",
        "from gtts import gTTS\n",
        "\n",
        "texts = mytext\n",
        "\n",
        "def text_to_speech(texts, language):\n",
        "\n",
        "    # Define language codes for English, Korean, and Russian\n",
        "    language_codes = {'English': 'en', 'Korean': 'ko', 'Russian': 'ru'}\n",
        "\n",
        "    # Create a gTTS object with the selected language\n",
        "    tts = gTTS(text=mytext, lang=language_codes[language], slow=False)\n",
        "\n",
        "    # Save the speech to a temporary file\n",
        "    filename = 'output.mp3'\n",
        "    tts.save(filename)\n",
        "    return filename\n",
        "\n",
        "iface = gr.Interface(\n",
        "    fn=text_to_speech,\n",
        "    inputs=[\n",
        "        gr.Textbox(label=\"Sample text\", placeholder=mytext),\n",
        "        gr.Radio(choices=['English', 'Korean', 'Russian'], label=\"Select Language\")\n",
        "    ],\n",
        "    outputs=gr.Audio(label=\"Output Audio\"),\n",
        "    title=\"Text-to-Speech Converter\",\n",
        "    description=\"Enter a sentence and choose a language to convert it into speech.\"\n",
        ")\n",
        "\n",
        "\n",
        "iface.launch()"
      ],
      "metadata": {
        "id": "FeHKQ-ds5jvW"
      },
      "execution_count": null,
      "outputs": []
    },
    {
      "cell_type": "markdown",
      "source": [
        "[3] 🔎 QR code to share"
      ],
      "metadata": {
        "id": "Gc4xDtBY6NFW"
      }
    },
    {
      "cell_type": "code",
      "source": [
        "#@markdown 🌀 QR code (link should be provided)\n",
        "import qrcode\n",
        "from IPython.display import display\n",
        "from PIL import Image\n",
        "\n",
        "# Replace YOUR_URL_HERE with the URL you copied from the Gradio output\n",
        "url = input(\"Paste your URL here: \")\n",
        "\n",
        "# Generate QR code\n",
        "qr = qrcode.QRCode(\n",
        "    version=1,\n",
        "    error_correction=qrcode.constants.ERROR_CORRECT_H,\n",
        "    box_size=16,\n",
        "    border=4,\n",
        ")\n",
        "qr.add_data(url)\n",
        "qr.make(fit=True)\n",
        "img = qr.make_image(fill_color=\"black\", back_color=\"white\")\n",
        "display(img)"
      ],
      "metadata": {
        "id": "bSMN72DE7nlO"
      },
      "execution_count": null,
      "outputs": []
    },
    {
      "cell_type": "code",
      "source": [
        "#@markdown Text into sentences\n",
        "import re\n",
        "\n",
        "# mytext = [\"A Lion lay asleep in the forest, his great head resting on his paws. A timid little Mouse came upon him unexpectedly, and in her fright and haste to get away, ran across the Lion's nose. Roused from his nap, the Lion laid his huge paw angrily on the tiny creature to kill her.\"]\n",
        "\n",
        "# Use regular expression to split text into sentences\n",
        "sentences = re.split(r'[.!?]', mytext[:])\n",
        "\n",
        "# Remove empty strings and strip whitespace from the resulting sentences\n",
        "sentences = [sentence.strip() for sentence in sentences if sentence.strip()]\n",
        "\n",
        "print(sentences)"
      ],
      "metadata": {
        "id": "g2kjz_I_76hF"
      },
      "execution_count": null,
      "outputs": []
    },
    {
      "cell_type": "markdown",
      "source": [
        "#🍀 Listening app\n",
        "###Texts are pregiven.\n",
        "###Learners can choose 1) reading material 2) language options, and 3) speech (0.5, 1, 1.5, 2 times)"
      ],
      "metadata": {
        "id": "h9HKqByA8cVt"
      }
    },
    {
      "cell_type": "code",
      "source": [
        "%%capture\n",
        "!pip install gtts gradio\n",
        "!pip install qrcode"
      ],
      "metadata": {
        "id": "nnxdFHVW8mzU"
      },
      "execution_count": 11,
      "outputs": []
    },
    {
      "cell_type": "markdown",
      "source": [
        "###Text to specify"
      ],
      "metadata": {
        "id": "VGWhUKvb8sLN"
      }
    },
    {
      "cell_type": "code",
      "source": [
        "sentences = [\n",
        "    \"Number one! Please believe that sweet peas and beans are good to eat. Eat them at least twice a week.\",\n",
        "    \"Number two! Tim's sister swims a LITTLE bit. It keeps her fit, slim, and trim.\",\n",
        "    \"Number three! Ten times seven is seventy. Seven times eleven is seventy-seven.\",\n",
        "    \"Number four! Many animals inhabit Africa. Africa has camels, giraffes, parrots, and bats.\",\n",
        "    \"Number five! Doctors say jogging is good for the body. Lots of starch causes heart problems.\",\n",
        "    \"Number six! Who flew to the moon? Numerous lunar flights are in the news. We'll soon put a person on Jupiter and Pluto.\",\n",
        "    \"Number seven! Would you look for my cookbook? It should be full of hints for good cookies and pudding.\",\n",
        "    \"Number eight! The southern governor is Republican. The public election was fun. She won by one hundred votes.\",\n",
        "    \"Number nine! The author gave a long talk in the office. The small audience thought it was boring.\",\n",
        "    \"Number ten! Nurses do worthy work. They certainly deserve a word of praise.\",\n",
        "    \"Number eleven! Labor Day is in September. Workers are honored.\",\n",
        "    \"Number twelve! Maine is a state in the northern United States. It's a great place for a vacation.\",\n",
        "    \"Number thirteen! The North Pole is close to the Arctic Ocean. It's known for polar bears, snow, and severe cold.\",\n",
        "    \"Number fourteen! Owls are now found throughout the world. They avoid crowds and make loud sounds.\",\n",
        "    \"Number fifteen! Eyesight is vital for a normal life. I prize mine highly.\",\n",
        "    \"Number sixteen! The auto industry is a loyal employer in Detroit. People enjoy their choice of cars.\",\n",
        "    \"Number seventeen! Africa, Asia, Australia, South America, and Europe comprise five of the continents. North America is another continent.\",\n",
        "    \"Number eighteeen! I have televisions in the bedroom, living room, and dining room. The programs about detectives and hospitals are my favorites.\"\n",
        "]"
      ],
      "metadata": {
        "id": "96V49G8D8yEd"
      },
      "execution_count": 12,
      "outputs": []
    },
    {
      "cell_type": "code",
      "source": [
        "#@markdown 🌀 Gradio app with pre-given texts\n",
        "import gradio as gr\n",
        "from gtts import gTTS\n",
        "import os\n",
        "\n",
        "sents = sentences\n",
        "\n",
        "def text_to_speech(selected_sentence, language):\n",
        "    sn = int(selected_sentence.split(\".\")[0])  # Extract the sentence number\n",
        "    mytext = sents[sn - 1]  # Get the selected sentence\n",
        "\n",
        "    # Define language codes for English, Korean, and Russian\n",
        "    language_codes = {'English': 'en', 'Korean': 'ko', 'Russian': 'ru'}\n",
        "\n",
        "    # Create a gTTS object with the selected language\n",
        "    tts = gTTS(text=mytext, lang=language_codes[language], slow=False)\n",
        "\n",
        "    # Save the speech to a temporary file\n",
        "    filename = 'output.mp3'\n",
        "    tts.save(filename)\n",
        "    return filename\n",
        "\n",
        "iface = gr.Interface(\n",
        "    fn=text_to_speech,\n",
        "    inputs=[\n",
        "        gr.Dropdown(choices=[f\"{i}. {sents[i-1]}\" for i in range(1, len(sents) + 1)], label=\"Select Sentence\"),\n",
        "        gr.Radio(choices=['English', 'Korean', 'Russian'], label=\"Language\")\n",
        "    ],\n",
        "    outputs=gr.Audio(type=\"filepath\", label=\"Output Audio\"),\n",
        "    title=\"Text-to-Speech Converter\",\n",
        "    description=\"Select a sentence and language to convert it to speech.\"\n",
        ")\n",
        "\n",
        "iface.launch()"
      ],
      "metadata": {
        "id": "NBW-rfy09Bvl"
      },
      "execution_count": null,
      "outputs": []
    },
    {
      "cell_type": "markdown",
      "source": [
        "QR code to share"
      ],
      "metadata": {
        "id": "PJGRDsio9STz"
      }
    },
    {
      "cell_type": "code",
      "source": [
        "#@markdown 🌀 QR code (link should be provided)\n",
        "import qrcode\n",
        "from IPython.display import display\n",
        "from PIL import Image\n",
        "\n",
        "# Replace YOUR_URL_HERE with the URL you copied from the Gradio output\n",
        "url = input(\"Paste your URL here: \")\n",
        "\n",
        "# Generate QR code\n",
        "qr = qrcode.QRCode(\n",
        "    version=1,\n",
        "    error_correction=qrcode.constants.ERROR_CORRECT_H,\n",
        "    box_size=16,\n",
        "    border=4,\n",
        ")\n",
        "qr.add_data(url)\n",
        "qr.make(fit=True)\n",
        "img = qr.make_image(fill_color=\"black\", back_color=\"white\")\n",
        "display(img)\n"
      ],
      "metadata": {
        "id": "1zPQ8A4m9PCM"
      },
      "execution_count": null,
      "outputs": []
    },
    {
      "cell_type": "markdown",
      "source": [
        "##🍀 Speaking: record speech and the app displays as it identifies (using STT Whisper)"
      ],
      "metadata": {
        "id": "cpubsNJr_l1C"
      }
    },
    {
      "cell_type": "markdown",
      "source": [
        "###[0] Install necessary packages"
      ],
      "metadata": {
        "id": "OxfRwhA3_v7j"
      }
    },
    {
      "cell_type": "code",
      "source": [
        "%%capture\n",
        "!pip install gradio\n",
        "!pip install openai-whisper\n",
        "!pip install qrcode\n",
        "!pip install git+https://github.com/openai/whisper.git"
      ],
      "metadata": {
        "id": "onrhGheN_oXw"
      },
      "execution_count": 20,
      "outputs": []
    },
    {
      "cell_type": "markdown",
      "source": [
        "###[2] Implement STT using Gradio: getting a live link"
      ],
      "metadata": {
        "id": "VYzAYxSZ_yul"
      }
    },
    {
      "cell_type": "code",
      "source": [
        "#@markdown App using Whisper: speech to text\n",
        "import gradio as gr\n",
        "import whisper\n",
        "\n",
        "def speech_to_text(audio_file_path):\n",
        "    try:\n",
        "        model = whisper.load_model(\"tiny\")  # Using \"tiny\" for better compatibility\n",
        "        audio = whisper.load_audio(audio_file_path)\n",
        "        result = model.transcribe(audio)\n",
        "        return result[\"text\"]\n",
        "    except Exception as e:\n",
        "        return f\"An error occurred: {str(e)}\"\n",
        "\n",
        "iface = gr.Interface(\n",
        "    fn=speech_to_text,\n",
        "    inputs=gr.Audio(type=\"filepath\", label=\"Record your voice\"),\n",
        "    outputs=\"text\",\n",
        "    title=\"Speech to Text Converter\",\n",
        "    description=\"Record your voice and convert it to text using Whisper.\"\n",
        ")\n",
        "\n",
        "iface.launch()"
      ],
      "metadata": {
        "id": "Ky0Q3Sdu_2nE"
      },
      "execution_count": null,
      "outputs": []
    },
    {
      "cell_type": "markdown",
      "source": [
        "###[3] QR code to generate"
      ],
      "metadata": {
        "id": "OcFV78sV__5L"
      }
    },
    {
      "cell_type": "code",
      "source": [
        "#@markdown 🌀 QR code to generate\n",
        "import qrcode\n",
        "from IPython.display import display\n",
        "from PIL import Image\n",
        "\n",
        "# Replace YOUR_URL_HERE with the URL you copied from the Gradio output\n",
        "url = input(\"Enter the URL to generate QR code: \")\n",
        "\n",
        "# Generate QR code\n",
        "qr = qrcode.QRCode(\n",
        "    version=1,\n",
        "    error_correction=qrcode.constants.ERROR_CORRECT_H,\n",
        "    box_size=12,\n",
        "    border=4,\n",
        ")\n",
        "qr.add_data(url)\n",
        "qr.make(fit=True)\n",
        "img = qr.make_image(fill_color=\"black\", back_color=\"white\")\n",
        "\n",
        "# Display the QR code\n",
        "display(img)\n",
        "\n",
        "# Save the QR code image\n",
        "image_path = '/content/qr_code.png'  # Specify your desired path and file name\n",
        "img.save(image_path)\n",
        "print(f\"QR code saved at {image_path}\")"
      ],
      "metadata": {
        "id": "kd4bH41nADg0"
      },
      "execution_count": null,
      "outputs": []
    },
    {
      "cell_type": "markdown",
      "source": [],
      "metadata": {
        "id": "Ab2cfnv1AH7s"
      }
    }
  ]
}